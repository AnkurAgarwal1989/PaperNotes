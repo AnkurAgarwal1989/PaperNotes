{
 "cells": [
  {
   "cell_type": "markdown",
   "metadata": {},
   "source": [
    "## For BA to solve the Non-linear optimization problem of SLAM, the following need to exist:\n",
    "1. Corresponding observations among selected keyframes.\n",
    "2. A method of keyframe selection; avoid unnecessay redundancy.\n",
    "3. A strong network of keyframes observing points with significant parallax.\n",
    "4. Initial estimate of keyframe poses and point locations.\n",
    "5. Optimization focussed in a local map; to provide scalability.\n",
    "6. Fast global optimization for real time loop closure."
   ]
  },
  {
   "cell_type": "markdown",
   "metadata": {},
   "source": [
    "## Main Features of ORB-SLAM:\n",
    "1. Using **_same_** features (ORB) for __Tracking__, __Mapping__, __Reloc__ and __Loop Closure__; efficient and reliable.\n",
    "2. Survival of fittest approach for keyframe selection; generous spawing, restricitve culling.\n",
    "* __Essential Graph__; loop closure links, strong edges from covisibility graph; real time loop closing.\n",
    "* Automatic and robus initialization; model selection, initial map from planar and non-planar scenes.\n",
    "* __Covisibility Graph__ for tracking and mapping in a local covisible area; real time operation.\n",
    "* Real time __Camera Relocalization__; allows better recovery from tracking failure, enhances map reuse.\n"
   ]
  },
  {
   "cell_type": "code",
   "execution_count": null,
   "metadata": {
    "collapsed": true
   },
   "outputs": [],
   "source": []
  }
 ],
 "metadata": {
  "anaconda-cloud": {},
  "kernelspec": {
   "display_name": "Python [Root]",
   "language": "python",
   "name": "Python [Root]"
  },
  "language_info": {
   "codemirror_mode": {
    "name": "ipython",
    "version": 2
   },
   "file_extension": ".py",
   "mimetype": "text/x-python",
   "name": "python",
   "nbconvert_exporter": "python",
   "pygments_lexer": "ipython2",
   "version": "2.7.12"
  }
 },
 "nbformat": 4,
 "nbformat_minor": 0
}
